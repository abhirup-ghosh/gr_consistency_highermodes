{
 "cells": [
  {
   "cell_type": "code",
   "execution_count": 1,
   "metadata": {},
   "outputs": [],
   "source": [
    "import numpy as np\n",
    "import matplotlib.pyplot as plt\n",
    "import read_emcee_samples as res"
   ]
  },
  {
   "cell_type": "code",
   "execution_count": 2,
   "metadata": {},
   "outputs": [],
   "source": [
    "#input directory\n",
    "root_dir = '/home/abhirup/Documents/Work/gr_consistency_highermodes/runs/modGR_simulations_PE'\n",
    "\n",
    "sxs_pe_3 = root_dir + '/BBH_M_70.00_iota_0.000_pol_0.000_flow_3/emcee_samples.dat'\n",
    "sxs_pe_5 = root_dir + '/BBH_M_70.00_iota_0.000_pol_0.000_flow_5/emcee_samples.dat'\n",
    "sxs_pe_10 = root_dir + '/BBH_M_70.00_iota_0.000_pol_0.000_flow_10/emcee_samples.dat'\n",
    "phenomhh_pe = root_dir + '/BBH_M_70.00_iota_0.000_pol_0.000_phenomHM22/emcee_samples.dat'"
   ]
  },
  {
   "cell_type": "code",
   "execution_count": 8,
   "metadata": {},
   "outputs": [
    {
     "name": "stderr",
     "output_type": "stream",
     "text": [
      "/home/abhirup/src/pycbc/lib/python2.7/site-packages/ipykernel_launcher.py:21: MatplotlibDeprecationWarning: axes.hold is deprecated.\n",
      "    See the API Changes document (http://matplotlib.org/api/api_changes.html)\n",
      "    for more details.\n",
      "/home/abhirup/src/pycbc/lib/python2.7/site-packages/ipykernel_launcher.py:23: MatplotlibDeprecationWarning: axes.hold is deprecated.\n",
      "    See the API Changes document (http://matplotlib.org/api/api_changes.html)\n",
      "    for more details.\n",
      "/home/abhirup/src/pycbc/lib/python2.7/site-packages/ipykernel_launcher.py:25: MatplotlibDeprecationWarning: axes.hold is deprecated.\n",
      "    See the API Changes document (http://matplotlib.org/api/api_changes.html)\n",
      "    for more details.\n",
      "/home/abhirup/src/pycbc/lib/python2.7/site-packages/ipykernel_launcher.py:27: MatplotlibDeprecationWarning: axes.hold is deprecated.\n",
      "    See the API Changes document (http://matplotlib.org/api/api_changes.html)\n",
      "    for more details.\n"
     ]
    },
    {
     "data": {
      "image/png": "[encoded data removed]",
      "text/plain": [
       "<matplotlib.figure.Figure at 0x7f8a8b988390>"
      ]
     },
     "metadata": {},
     "output_type": "display_data"
    }
   ],
   "source": [
    "label_list = ['SXS:3','SXS:5','SXS:10','HM:20']\n",
    "\n",
    "fig = plt.figure(figsize=(6,6))\n",
    "ax1 = fig.add_subplot(221)\n",
    "ax2 = fig.add_subplot(222)\n",
    "ax3 = fig.add_subplot(223)\n",
    "ax4 = fig.add_subplot(224)\n",
    "\n",
    "for (idx, post_loc) in enumerate([sxs_pe_3, sxs_pe_5, sxs_pe_10, phenomhh_pe]):\n",
    "    nwalkers, num_iter, ndim = 100, 10000, 9\n",
    "    n_burnin = 5000\n",
    "    \n",
    "    mc, q, dL, i, t0, phi0, ra, sin_dec, pol = res.read_emcee_samples_9dim(post_loc, nwalkers, num_iter, ndim, n_burnin)\n",
    "\n",
    "    mc_bins = np.linspace(18, 21,30)\n",
    "    q_bins = np.linspace(0.12, 0.2, 30)\n",
    "    dL_bins = np.linspace(300, 600, 30)\n",
    "    t0_bins = np.linspace(-0.1, 0.3, 30)\n",
    "    \n",
    "    ax1.hist(mc, bins=mc_bins, histtype='step', label=label_list[idx], normed=True)\n",
    "    ax1.hold(True)\n",
    "    ax2.hist(q, bins=q_bins, histtype='step', normed=True)\n",
    "    ax2.hold(True)\n",
    "    ax3.hist(dL, bins=dL_bins, histtype='step', normed=True)\n",
    "    ax3.hold(True)\n",
    "    ax4.hist(t0, bins=t0_bins, histtype='step', normed=True)\n",
    "    ax4.hold(True)\n",
    "    \n",
    "ax1.legend(loc='best')    \n",
    "plt.show()    "
   ]
  },
  {
   "cell_type": "code",
   "execution_count": null,
   "metadata": {},
   "outputs": [],
   "source": []
  }
 ],
 "metadata": {
  "kernelspec": {
   "display_name": "Python 2",
   "language": "python",
   "name": "python2"
  },
  "language_info": {
   "codemirror_mode": {
    "name": "ipython",
    "version": 2
   },
   "file_extension": ".py",
   "mimetype": "text/x-python",
   "name": "python",
   "nbconvert_exporter": "python",
   "pygments_lexer": "ipython2",
   "version": "2.7.9"
  }
 },
 "nbformat": 4,
 "nbformat_minor": 2
}
