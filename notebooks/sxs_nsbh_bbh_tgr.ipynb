{
 "cells": [
  {
   "cell_type": "code",
   "execution_count": 1,
   "metadata": {},
   "outputs": [],
   "source": [
    "import matplotlib as mpl\n",
    "import numpy as np\n",
    "import matplotlib.pyplot as plt\n",
    "import plotsettings\n",
    "from optparse import OptionParser\n",
    "from matplotlib import rc\n",
    "mpl.rc('text.latex', preamble = '\\usepackage{txfonts}')\n",
    "import bayesian as ba\n",
    "import imrtestgr as tgr\n",
    "import scipy\n",
    "from scipy import interpolate\n",
    "import sys\n",
    "sys.path.insert(0, '/Users/abhirupghosh/Documents/Work/gr_consistency_highermodes/src')\n",
    "import read_emcee_samples as res\n",
    "\n",
    "rc_params = {'backend': 'ps',\n",
    "             'axes.labelsize': 10,\n",
    "             'axes.titlesize': 10,\n",
    "             'font.size': 12,\n",
    "             'legend.fontsize': 12,\n",
    "             'xtick.labelsize': 13,\n",
    "             'ytick.labelsize': 13,\n",
    "             'font.family': 'Times New Roman',\n",
    "             'font.family': 'sans-serif',\n",
    "             'font.sans-serif': ['Bitstream Vera Sans']\n",
    "             }"
   ]
  },
  {
   "cell_type": "markdown",
   "metadata": {},
   "source": [
    "## Confidence modules"
   ]
  },
  {
   "cell_type": "code",
   "execution_count": 2,
   "metadata": {},
   "outputs": [],
   "source": [
    "# Module for confidence calculations\n",
    "class confidence(object):\n",
    "    def __init__(self, counts):\n",
    "        # Sort in descending order in frequency\n",
    "        self.counts_sorted = np.sort(counts.flatten())[::-1]\n",
    "        # Get a normalized cumulative distribution from the mode\n",
    "        self.norm_cumsum_counts_sorted = np.cumsum(self.counts_sorted) / np.sum(counts)\n",
    "        # Set interpolations between heights, bins and levels\n",
    "        self._set_interp()\n",
    "    def _set_interp(self):\n",
    "        self._length = len(self.counts_sorted)\n",
    "        # height from index\n",
    "        self._height_from_idx = interpolate.interp1d(np.arange(self._length), self.counts_sorted, bounds_error=False, fill_value=0.)\n",
    "        # index from height\n",
    "        self._idx_from_height = interpolate.interp1d(self.counts_sorted[::-1], np.arange(self._length)[::-1], bounds_error=False, fill_value=self._length)\n",
    "        # level from index\n",
    "        self._level_from_idx = interpolate.interp1d(np.arange(self._length), self.norm_cumsum_counts_sorted, bounds_error=False, fill_value=1.)\n",
    "        # index from level\n",
    "        self._idx_from_level = interpolate.interp1d(self.norm_cumsum_counts_sorted, np.arange(self._length), bounds_error=False, fill_value=self._length)\n",
    "    def level_from_height(self, height):\n",
    "        return self._level_from_idx(self._idx_from_height(height))\n",
    "    def height_from_level(self, level):\n",
    "        return self._height_from_idx(self._idx_from_level(level))\n",
    "\n",
    "# compute 1-sigma confidence intervals in 1D \n",
    "def calc_cred_intervals_in_1d(P, x):\n",
    "\n",
    "    # find the value of P corresponding to 50% and 9% confidence heights \n",
    "    conf = confidence(P)\n",
    "    P_s1 = conf.height_from_level(0.5)\n",
    "    P_s2 = conf.height_from_level(0.9)\n",
    "\n",
    "    # calculation of condifence edges (values of x corresponding to the height s1 on the two sides) \n",
    "    x_s1_l = min(x[np.where(P >= P_s1)[0]])\n",
    "    x_s1_r = max(x[np.where(P >= P_s1)[0]])\n",
    "\n",
    "    # calculation of condifence edges (values of x corresponding to the height s2 on the two sides) \n",
    "    x_s2_l = min(x[np.where(P >= P_s2)[0]])\n",
    "    x_s2_r = max(x[np.where(P >= P_s2)[0]])\n",
    "\n",
    "    return P_s1, P_s2, x_s1_l, x_s1_r, x_s2_l, x_s2_r"
   ]
  },
  {
   "cell_type": "markdown",
   "metadata": {},
   "source": [
    "## Location of runs"
   ]
  },
  {
   "cell_type": "code",
   "execution_count": 7,
   "metadata": {},
   "outputs": [],
   "source": [
    "post_loc_bbh = '/home/ajit.mehta/gr_consistency_highermodes/runs/modGR_simulations/SNR50/BBH_M120_iota1.57/emcee_samples.dat'\n",
    "post_loc_nsbh = '/home/ajit.mehta/gr_consistency_highermodes/runs/modGR_simulations/SNR50/NSBH_M120_iota1.57/emcee_samples.dat'\n",
    "\n",
    "post_loc_list = [post_loc_bbh, post_loc_nsbh]\n",
    "\n",
    "color = ['k','k']\n",
    "linestyle = ['solid', 'dashed']\n",
    "label=['BBH', 'NSBH']"
   ]
  },
  {
   "cell_type": "markdown",
   "metadata": {},
   "source": [
    "## Plotting (dMc, dq) plots"
   ]
  },
  {
   "cell_type": "code",
   "execution_count": 9,
   "metadata": {},
   "outputs": [
    {
     "name": "stdout",
     "output_type": "stream",
     "text": [
      "Credible level of the GR value (BBH): 26.79% \n"
     ]
    },
    {
     "name": "stderr",
     "output_type": "stream",
     "text": [
      "/home/abhirup/src/pycbc/lib/python2.7/site-packages/ipykernel_launcher.py:77: MatplotlibDeprecationWarning: pyplot.hold is deprecated.\n",
      "    Future behavior will be consistent with the long-time default:\n",
      "    plot commands add elements without first clearing the\n",
      "    Axes and/or Figure.\n"
     ]
    },
    {
     "name": "stdout",
     "output_type": "stream",
     "text": [
      "Credible level of the GR value (NSBH): 94.94% \n"
     ]
    },
    {
     "data": {
      "image/png": "[encoded data removed]",
      "text/plain": [
       "<matplotlib.figure.Figure at 0x7f73c5e36c50>"
      ]
     },
     "metadata": {},
     "output_type": "display_data"
    }
   ],
   "source": [
    "Nbins = 101\n",
    "nwalkers, num_iter, ndim, n_burnin = 200, 20000, 11, 5000\n",
    "\n",
    "p = plt.figure(figsize=(5,5))\n",
    "ax1 = plt.subplot2grid((3,3), (0,0), colspan=2)\n",
    "ax2 = plt.subplot2grid((3,3), (1,2), rowspan=2)\n",
    "ax3 = plt.subplot2grid((3,3), (1,0), colspan=2, rowspan=2)\n",
    "\n",
    "for (idx, post_loc) in enumerate(post_loc_list):\n",
    "    mc, q, mc1, q1, dL, i, t0, phi0, ra, sin_dec, pol = res.read_emcee_samples_11dim(post_loc, nwalkers, num_iter, ndim, n_burnin)\n",
    "    dmc_2d, dq_2d = mc - mc1, q - q1\n",
    "\n",
    "    dmc_lim = 1.0\n",
    "    dq_lim = 0.01\n",
    "\n",
    "    dmc_bins = np.linspace(-dmc_lim, dmc_lim, Nbins)\n",
    "    dq_bins = np.linspace(-dq_lim, dq_lim, Nbins)\n",
    "    dmc = np.mean(np.diff(dmc_bins))\n",
    "    dq = np.mean(np.diff(dq_bins))\n",
    "\n",
    "    dmc_intp = (dmc_bins[:-1] + dmc_bins[1:])/2.\n",
    "    dq_intp = (dq_bins[:-1] + dq_bins[1:])/2.\n",
    "\n",
    "    P_dmc_dq_2d, dmc_bins, dq_bins = np.histogram2d(dmc_2d, dq_2d, bins=(dmc_bins, dq_bins), normed=True)\n",
    "    P_dmc_dq_2d = P_dmc_dq_2d.T\n",
    "    P_dmc_marg = np.sum(P_dmc_dq_2d, axis=0) * dq\n",
    "    P_dq_marg = np.sum(P_dmc_dq_2d, axis=1) * dmc\n",
    "\n",
    "    # computing 50 and 90% credible levels for 2d distribution\n",
    "    conf_s1s2 = confidence(P_dmc_dq_2d)\n",
    "    s1_2d = conf_s1s2.height_from_level(0.5)\n",
    "    s2_2d = conf_s1s2.height_from_level(0.9)\n",
    "\n",
    "    # computing credible level for GR predition of (0,0)\n",
    "\n",
    "    gr_height = P_dmc_dq_2d[np.argmin(abs(dmc_intp)), np.argmin(abs(dq_intp))]\n",
    "    gr_credib_level = conf_s1s2.level_from_height(gr_height)\n",
    "    print 'Credible level of the GR value (%s): %.2f%% '%(label[idx], 100.*gr_credib_level)\n",
    "\n",
    "    # computing 50 and 90% confidence intervals on marginalised 1D distributions\n",
    "    s1_marg_v1, s2_marg_v1, left1_marg_v1, right1_marg_v1, left2_marg_v1, right2_marg_v1 = calc_cred_intervals_in_1d(P_dmc_marg, dmc_intp)\n",
    "    s1_marg_v2, s2_marg_v2, left1_marg_v2, right1_marg_v2, left2_marg_v2, right2_marg_v2 = calc_cred_intervals_in_1d(P_dq_marg, dq_intp)\n",
    "\n",
    "    # plotting\n",
    "    ax1.plot(dmc_intp, tgr.gf(P_dmc_marg),color=color[idx], linestyle=linestyle[idx], lw=1.5, label=label[idx])\n",
    "    ax1.axvline(0.,color='k', ls='-', lw=0.5)\n",
    "    ax1.axvline(x=left1_marg_v1, color=color[idx], ls=':', lw=0.5)\n",
    "    ax1.axvline(x=right1_marg_v1, color=color[idx], ls=':', lw=0.5)\n",
    "    ax1.axvline(x=left2_marg_v1, color=color[idx], ls=':', lw=0.5)\n",
    "    ax1.axvline(x=right2_marg_v1, color=color[idx], ls=':', lw=0.5)\n",
    "    ax1.set_ylabel('$P(\\Delta M_c)$',fontsize=14)\n",
    "    ax1.set_xlim(-0.3, 0.5)\n",
    "    ax1.xaxis.tick_top()\n",
    "    ax1.set_yticks([])\n",
    "    ax1.legend(loc='best')\n",
    "\n",
    "    ax3.contour(dmc_intp, dq_intp, tgr.gf(P_dmc_dq_2d), levels=(s2_2d,s1_2d), linewidths=(1,1.5), linestyles=(linestyle[idx],linestyle[idx]), colors=color[idx])\n",
    "    ax3.plot(0, 0, '+', color='k', ms=12, mew=2)\n",
    "    ax3.set_xlabel('$\\Delta M_c ~ (M_\\odot)$',fontsize=14, labelpad=10)\n",
    "    ax3.set_ylabel('$\\Delta q \\, \\\\times \\, 10^{3}$',fontsize=14)\n",
    "    ax3.set_xticks([])\n",
    "    ax3.set_yticks([])\n",
    "    ax3.set_xlim(-0.3, 0.5)\n",
    "    ax3.set_ylim(-0.0015, 0.0025)\n",
    "\n",
    "    ax2.plot(tgr.gf(P_dq_marg), dq_intp,color=color[idx], linestyle=linestyle[idx], lw=1.5)\n",
    "    ax2.axhline(0.,color=color[idx], ls='-', lw=0.5)\n",
    "    ax2.axhline(y=left1_marg_v2, color=color[idx], ls=':', lw=0.5)\n",
    "    ax2.axhline(y=right1_marg_v2, color=color[idx], ls=':', lw=0.5)\n",
    "    ax2.axhline(y=left2_marg_v2, color=color[idx], ls=':', lw=0.5)\n",
    "    ax2.axhline(y=right2_marg_v2, color=color[idx], ls=':', lw=0.5)\n",
    "    ax2.set_xlabel('$P(\\Delta q)$',fontsize=14, labelpad=10)\n",
    "    ax2.set_xticks([])\n",
    "    ax2.set_ylim(-0.0015, 0.0025)\n",
    "    ax2.yaxis.tick_right()\n",
    "\n",
    "    plt.hold(True)\n",
    "\n",
    "plt.show()    \n",
    "    "
   ]
  },
  {
   "cell_type": "code",
   "execution_count": null,
   "metadata": {},
   "outputs": [],
   "source": []
  }
 ],
 "metadata": {
  "kernelspec": {
   "display_name": "Python 2",
   "language": "python",
   "name": "python2"
  },
  "language_info": {
   "codemirror_mode": {
    "name": "ipython",
    "version": 2
   },
   "file_extension": ".py",
   "mimetype": "text/x-python",
   "name": "python",
   "nbconvert_exporter": "python",
   "pygments_lexer": "ipython2",
   "version": "2.7.9"
  }
 },
 "nbformat": 4,
 "nbformat_minor": 2
}
